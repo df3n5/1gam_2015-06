{
  "nbformat": 4,
  "nbformat_minor": 0,
  "metadata": {
    "colab": {
      "name": "probability_intro.ipynb",
      "provenance": [],
      "authorship_tag": "ABX9TyMCUJHy4tx7rp6OVEwaYzdz",
      "include_colab_link": true
    },
    "kernelspec": {
      "name": "python3",
      "display_name": "Python 3"
    }
  },
  "cells": [
    {
      "cell_type": "markdown",
      "metadata": {
        "id": "view-in-github",
        "colab_type": "text"
      },
      "source": [
        "<a href=\"https://colab.research.google.com/github/jonathanfrawley/1gam_2015-06/blob/master/src/probability_intro.ipynb\" target=\"_parent\"><img src=\"https://colab.research.google.com/assets/colab-badge.svg\" alt=\"Open In Colab\"/></a>"
      ]
    },
    {
      "cell_type": "markdown",
      "metadata": {
        "id": "eD5q--QijJRY",
        "colab_type": "text"
      },
      "source": [
        "# Introduction to Probability\n",
        "\n"
      ]
    },
    {
      "cell_type": "markdown",
      "metadata": {
        "id": "A0WUtVfFjXJW",
        "colab_type": "text"
      },
      "source": [
        "## Dice 🎲 🎲\n",
        "Dice are objects that most people are familiar with.\n",
        "They are \n",
        "\n",
        "\n",
        "\n"
      ]
    },
    {
      "cell_type": "markdown",
      "metadata": {
        "id": "lQop94aijUkQ",
        "colab_type": "text"
      },
      "source": [
        "## Probability Density function (PDF)"
      ]
    }
  ]
}